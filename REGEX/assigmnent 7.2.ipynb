{
  "nbformat": 4,
  "nbformat_minor": 0,
  "metadata": {
    "colab": {
      "name": "Untitled2.ipynb",
      "provenance": []
    },
    "kernelspec": {
      "name": "python3",
      "display_name": "Python 3"
    },
    "language_info": {
      "name": "python"
    }
  },
  "cells": [
    {
      "cell_type": "code",
      "metadata": {
        "id": "w0vVYSQSIWWC"
      },
      "source": [
        "import pandas as pd\n",
        "import numpy as np\n",
        "import matplotlib.pyplot as plt\n",
        "import seaborn as sns\n",
        "from sklearn.model_selection import train_test_split"
      ],
      "execution_count": 1,
      "outputs": []
    },
    {
      "cell_type": "code",
      "metadata": {
        "id": "We8WX5Y_Ij_R"
      },
      "source": [
        "test_data=pd.read_csv('test.csv')\n",
        "train_data=pd.read_csv('train.csv')"
      ],
      "execution_count": 41,
      "outputs": []
    },
    {
      "cell_type": "code",
      "metadata": {
        "colab": {
          "base_uri": "https://localhost:8080/"
        },
        "id": "Opfu_8txIkBf",
        "outputId": "561ca801-18e5-4887-ef20-371fc3c8d3b8"
      },
      "source": [
        "train_data.info()"
      ],
      "execution_count": 43,
      "outputs": [
        {
          "output_type": "stream",
          "name": "stdout",
          "text": [
            "<class 'pandas.core.frame.DataFrame'>\n",
            "RangeIndex: 1460 entries, 0 to 1459\n",
            "Data columns (total 81 columns):\n",
            " #   Column         Non-Null Count  Dtype  \n",
            "---  ------         --------------  -----  \n",
            " 0   Id             1460 non-null   int64  \n",
            " 1   MSSubClass     1460 non-null   int64  \n",
            " 2   MSZoning       1460 non-null   object \n",
            " 3   LotFrontage    1201 non-null   float64\n",
            " 4   LotArea        1460 non-null   int64  \n",
            " 5   Street         1460 non-null   object \n",
            " 6   Alley          91 non-null     object \n",
            " 7   LotShape       1460 non-null   object \n",
            " 8   LandContour    1460 non-null   object \n",
            " 9   Utilities      1460 non-null   object \n",
            " 10  LotConfig      1460 non-null   object \n",
            " 11  LandSlope      1460 non-null   object \n",
            " 12  Neighborhood   1460 non-null   object \n",
            " 13  Condition1     1460 non-null   object \n",
            " 14  Condition2     1460 non-null   object \n",
            " 15  BldgType       1460 non-null   object \n",
            " 16  HouseStyle     1460 non-null   object \n",
            " 17  OverallQual    1460 non-null   int64  \n",
            " 18  OverallCond    1460 non-null   int64  \n",
            " 19  YearBuilt      1460 non-null   int64  \n",
            " 20  YearRemodAdd   1460 non-null   int64  \n",
            " 21  RoofStyle      1460 non-null   object \n",
            " 22  RoofMatl       1460 non-null   object \n",
            " 23  Exterior1st    1460 non-null   object \n",
            " 24  Exterior2nd    1460 non-null   object \n",
            " 25  MasVnrType     1452 non-null   object \n",
            " 26  MasVnrArea     1452 non-null   float64\n",
            " 27  ExterQual      1460 non-null   object \n",
            " 28  ExterCond      1460 non-null   object \n",
            " 29  Foundation     1460 non-null   object \n",
            " 30  BsmtQual       1423 non-null   object \n",
            " 31  BsmtCond       1423 non-null   object \n",
            " 32  BsmtExposure   1422 non-null   object \n",
            " 33  BsmtFinType1   1423 non-null   object \n",
            " 34  BsmtFinSF1     1460 non-null   int64  \n",
            " 35  BsmtFinType2   1422 non-null   object \n",
            " 36  BsmtFinSF2     1460 non-null   int64  \n",
            " 37  BsmtUnfSF      1460 non-null   int64  \n",
            " 38  TotalBsmtSF    1460 non-null   int64  \n",
            " 39  Heating        1460 non-null   object \n",
            " 40  HeatingQC      1460 non-null   object \n",
            " 41  CentralAir     1460 non-null   object \n",
            " 42  Electrical     1459 non-null   object \n",
            " 43  1stFlrSF       1460 non-null   int64  \n",
            " 44  2ndFlrSF       1460 non-null   int64  \n",
            " 45  LowQualFinSF   1460 non-null   int64  \n",
            " 46  GrLivArea      1460 non-null   int64  \n",
            " 47  BsmtFullBath   1460 non-null   int64  \n",
            " 48  BsmtHalfBath   1460 non-null   int64  \n",
            " 49  FullBath       1460 non-null   int64  \n",
            " 50  HalfBath       1460 non-null   int64  \n",
            " 51  BedroomAbvGr   1460 non-null   int64  \n",
            " 52  KitchenAbvGr   1460 non-null   int64  \n",
            " 53  KitchenQual    1460 non-null   object \n",
            " 54  TotRmsAbvGrd   1460 non-null   int64  \n",
            " 55  Functional     1460 non-null   object \n",
            " 56  Fireplaces     1460 non-null   int64  \n",
            " 57  FireplaceQu    770 non-null    object \n",
            " 58  GarageType     1379 non-null   object \n",
            " 59  GarageYrBlt    1379 non-null   float64\n",
            " 60  GarageFinish   1379 non-null   object \n",
            " 61  GarageCars     1460 non-null   int64  \n",
            " 62  GarageArea     1460 non-null   int64  \n",
            " 63  GarageQual     1379 non-null   object \n",
            " 64  GarageCond     1379 non-null   object \n",
            " 65  PavedDrive     1460 non-null   object \n",
            " 66  WoodDeckSF     1460 non-null   int64  \n",
            " 67  OpenPorchSF    1460 non-null   int64  \n",
            " 68  EnclosedPorch  1460 non-null   int64  \n",
            " 69  3SsnPorch      1460 non-null   int64  \n",
            " 70  ScreenPorch    1460 non-null   int64  \n",
            " 71  PoolArea       1460 non-null   int64  \n",
            " 72  PoolQC         7 non-null      object \n",
            " 73  Fence          281 non-null    object \n",
            " 74  MiscFeature    54 non-null     object \n",
            " 75  MiscVal        1460 non-null   int64  \n",
            " 76  MoSold         1460 non-null   int64  \n",
            " 77  YrSold         1460 non-null   int64  \n",
            " 78  SaleType       1460 non-null   object \n",
            " 79  SaleCondition  1460 non-null   object \n",
            " 80  SalePrice      1460 non-null   int64  \n",
            "dtypes: float64(3), int64(35), object(43)\n",
            "memory usage: 924.0+ KB\n"
          ]
        }
      ]
    },
    {
      "cell_type": "code",
      "metadata": {
        "colab": {
          "base_uri": "https://localhost:8080/"
        },
        "id": "Wio6NBOwIkDw",
        "outputId": "2e7c3ada-af4b-4a7e-d832-ba6ed0dd80c5"
      },
      "source": [
        "train_data.isnull().sum()"
      ],
      "execution_count": 42,
      "outputs": [
        {
          "output_type": "execute_result",
          "data": {
            "text/plain": [
              "Id                 0\n",
              "MSSubClass         0\n",
              "MSZoning           0\n",
              "LotFrontage      259\n",
              "LotArea            0\n",
              "                ... \n",
              "MoSold             0\n",
              "YrSold             0\n",
              "SaleType           0\n",
              "SaleCondition      0\n",
              "SalePrice          0\n",
              "Length: 81, dtype: int64"
            ]
          },
          "metadata": {},
          "execution_count": 42
        }
      ]
    },
    {
      "cell_type": "code",
      "metadata": {
        "colab": {
          "base_uri": "https://localhost:8080/"
        },
        "id": "EEdGVKECJPMo",
        "outputId": "ccf032c5-0d6d-4cf6-9cbb-a7186cedf096"
      },
      "source": [
        "train_data.duplicated().sum()"
      ],
      "execution_count": 44,
      "outputs": [
        {
          "output_type": "execute_result",
          "data": {
            "text/plain": [
              "0"
            ]
          },
          "metadata": {},
          "execution_count": 44
        }
      ]
    },
    {
      "cell_type": "code",
      "metadata": {
        "id": "ZCqfR0aQNMT3"
      },
      "source": [
        "X = train.iloc[:,:-1].values\n",
        "Y = test.iloc[:,1].values"
      ],
      "execution_count": 67,
      "outputs": []
    },
    {
      "cell_type": "code",
      "metadata": {
        "id": "sA1aayOnXaVA"
      },
      "source": [
        ""
      ],
      "execution_count": null,
      "outputs": []
    },
    {
      "cell_type": "code",
      "metadata": {
        "id": "74j1PaFHJPOY"
      },
      "source": [
        "Lot_mean=train['LotFrontage'].mean()\n",
        "train['LotFrontage'] =train['LotFrontage'].fillna(Lot_mean)\n",
        "\n",
        "Gar_mean=train['GarageYrBlt'].mean()\n",
        "train['GarageYrBlt'] =train['GarageYrBlt'].fillna(Gar_mean)\n"
      ],
      "execution_count": 51,
      "outputs": []
    },
    {
      "cell_type": "code",
      "metadata": {
        "id": "6BY5BfHuS81h"
      },
      "source": [
        "\n",
        "train_data['FireplaceQu'] = train_data['FireplaceQu'].fillna(train_data['FireplaceQu'].dropna().mode()[0])\n",
        "train_data['LotFrontage'] = train_data['LotFrontage'].fillna(train_data['LotFrontage'].dropna().mode()[0])\n",
        "train_data['GarageCond'] = train_data['GarageCond'].fillna(train_data['GarageCond'].dropna().mode()[0])\n",
        "train_data['GarageType'] = train_data['GarageType'].fillna(train_data['GarageType'].dropna().mode()[0])\n",
        "train_data['GarageFinish'] = train_data['GarageFinish'].fillna(train_data['GarageFinish'].dropna().mode()[0])\n",
        "train_data['GarageQual'] = train_data['GarageQual'].fillna(train_data['GarageQual'].dropna().mode()[0])\n",
        "train_data['BsmtFinType2'] = train_data['BsmtFinType2'].fillna(train_data['BsmtFinType2'].dropna().mode()[0])\n",
        "train_data['BsmtExposure'] = train_data['BsmtExposure'].fillna(train_data['BsmtExposure'].dropna().mode()[0])\n",
        "train_data['BsmtQual'] = train_data['BsmtQual'].fillna(train_data['BsmtQual'].dropna().mode()[0])\n",
        "train_data['BsmtCond'] = train_data['BsmtCond'].fillna(train_data['BsmtCond'].dropna().mode()[0])\n",
        "train_data['BsmtFinType1'] = train_data['BsmtFinType1'].fillna(train_data['BsmtFinType1'].dropna().mode()[0])\n",
        "train_data['MasVnrArea'] = train_data['MasVnrArea'].fillna(train_data['MasVnrArea'].dropna().mode()[0])\n",
        "train_data['MasVnrType'] = train_data['MasVnrType'].fillna(train_data['MasVnrType'].dropna().mode()[0])\n",
        "train_data['Electrical'] = train_data['Electrical'].fillna(train_data['Electrical'].dropna().mode()[0])\n"
      ],
      "execution_count": 73,
      "outputs": []
    },
    {
      "cell_type": "code",
      "metadata": {
        "id": "K-ZqkpfHXbOH"
      },
      "source": [
        "test_data['FireplaceQu'] = test_data['FireplaceQu'].fillna(test_data['FireplaceQu'].dropna().mode()[0])\n",
        "test_data['LotFrontage'] = test_data['LotFrontage'].fillna(test_data['LotFrontage'].dropna().mode()[0])\n",
        "test_data['GarageCond'] = test_data['GarageCond'].fillna(test_data['GarageCond'].dropna().mode()[0])\n",
        "test_data['GarageType'] = test_data['GarageType'].fillna(test_data['GarageType'].dropna().mode()[0])\n",
        "test_data['GarageFinish'] = test_data['GarageFinish'].fillna(test_data['GarageFinish'].dropna().mode()[0])\n",
        "test_data['GarageQual'] = test_data['GarageQual'].fillna(test_data['GarageQual'].dropna().mode()[0])\n",
        "test_data['BsmtFinType2'] = test_data['BsmtFinType2'].fillna(test_data['BsmtFinType2'].dropna().mode()[0])\n",
        "test_data['BsmtExposure'] = test_data['BsmtExposure'].fillna(test_data['BsmtExposure'].dropna().mode()[0])\n",
        "test_data['BsmtQual'] = test_data['BsmtQual'].fillna(test_data['BsmtQual'].dropna().mode()[0])\n",
        "test_data['BsmtCond'] = test_data['BsmtCond'].fillna(test_data['BsmtCond'].dropna().mode()[0])\n",
        "test_data['BsmtFinType1'] = test_data['BsmtFinType1'].fillna(test_data['BsmtFinType1'].dropna().mode()[0])\n",
        "test_data['MasVnrArea'] = test_data['MasVnrArea'].fillna(test_data['MasVnrArea'].dropna().mode()[0])\n",
        "test_data['MasVnrType'] = test_data['MasVnrType'].fillna(test_data['MasVnrType'].dropna().mode()[0])\n",
        "test_data['MSZoning'] = test_data['MSZoning'].fillna(test_data['MSZoning'].dropna().mode()[0])\n",
        "test_data['BsmtHalfBath'] = test_data['BsmtHalfBath'].fillna(test_data['BsmtHalfBath'].dropna().mode()[0])\n",
        "test_data['Functional'] = test_data['Functional'].fillna(test_data['Functional'].dropna().mode()[0])\n",
        "test_data['BsmtFullBath'] = test_data['BsmtFullBath'].fillna(test_data['BsmtFullBath'].dropna().mode()[0])\n",
        "test_data['Utilities'] = test_data['Utilities'].fillna(test_data['Utilities'].dropna().mode()[0])\n",
        "test_data['Exterior1st'] = test_data['Exterior1st'].fillna(test_data['Exterior1st'].dropna().mode()[0])\n",
        "test_data['Exterior2nd'] = test_data['Exterior2nd'].fillna(test_data['Exterior2nd'].dropna().mode()[0])\n",
        "test_data['KitchenQual'] = test_data['KitchenQual'].fillna(test_data['KitchenQual'].dropna().mode()[0])\n",
        "test_data['SaleType'] = test_data['SaleType'].fillna(test_data['SaleType'].dropna().mode()[0])\n",
        "\n",
        "test_data['BsmtFinSF1'] = test_data['BsmtFinSF1'].fillna(test_data['BsmtFinSF1'].dropna().mean())\n",
        "test_data['BsmtFinSF2'] = test_data['BsmtFinSF2'].fillna(test_data['BsmtFinSF2'].dropna().mean())\n",
        "test_data['BsmtUnfSF'] = test_data['BsmtUnfSF'].fillna(test_data['BsmtUnfSF'].dropna().mean())\n",
        "test_data['TotalBsmtSF'] = test_data['TotalBsmtSF'].fillna(test_data['TotalBsmtSF'].dropna().mean())\n",
        "test_data['GarageCars'] = test_data['GarageCars'].fillna(test_data['GarageCars'].dropna().mean())\n",
        "test_data['GarageArea'] = test_data['GarageArea'].fillna(test_data['GarageArea'].dropna().mean())"
      ],
      "execution_count": 71,
      "outputs": []
    },
    {
      "cell_type": "code",
      "metadata": {
        "id": "BkdvS4w6U1em"
      },
      "source": [
        "train_data.isnull().sum().sort_values(ascending=False)\n",
        "\n",
        "test_data.isnull().sum().sort_values(ascending=False)"
      ],
      "execution_count": null,
      "outputs": []
    },
    {
      "cell_type": "code",
      "metadata": {
        "colab": {
          "base_uri": "https://localhost:8080/",
          "height": 562
        },
        "id": "hG57sQTjJaJ5",
        "outputId": "87efe854-a5c6-401e-fff8-a53902fec26b"
      },
      "source": [
        "\n",
        "plt.figure(figsize=(15,11))\n",
        "sns.heatmap(train.corr(),)\n",
        "plt.show"
      ],
      "execution_count": 11,
      "outputs": [
        {
          "output_type": "execute_result",
          "data": {
            "text/plain": [
              "<function matplotlib.pyplot.show>"
            ]
          },
          "metadata": {},
          "execution_count": 11
        },
        {
          "output_type": "display_data",
          "data": {
            "image/png": "[encoded data removed]",
            "text/plain": [
              "<Figure size 1080x792 with 2 Axes>"
            ]
          },
          "metadata": {
            "needs_background": "light"
          }
        }
      ]
    },
    {
      "cell_type": "code",
      "metadata": {
        "id": "7_YHtWR4JaMR"
      },
      "source": [
        "sns.histplot(train['SalePrice'])"
      ],
      "execution_count": null,
      "outputs": []
    },
    {
      "cell_type": "code",
      "metadata": {
        "id": "crO89VAwJaOR"
      },
      "source": [
        "sns.barplot(train['OverallQual'], train['SalePrice'])"
      ],
      "execution_count": null,
      "outputs": []
    },
    {
      "cell_type": "code",
      "metadata": {
        "id": "xTriXY6oJPQo"
      },
      "source": [
        "sns.scatterplot(train['GrLivArea'],train['SalePrice'])"
      ],
      "execution_count": null,
      "outputs": []
    },
    {
      "cell_type": "code",
      "metadata": {
        "id": "ceKDJYMqIkFn"
      },
      "source": [
        "sns.lineplot(train['GarageArea'],train['SalePrice'])"
      ],
      "execution_count": null,
      "outputs": []
    },
    {
      "cell_type": "code",
      "metadata": {
        "id": "xk74sJCcMGSX"
      },
      "source": [
        ""
      ],
      "execution_count": null,
      "outputs": []
    },
    {
      "cell_type": "code",
      "metadata": {
        "id": "yVtbZRtYVHYU"
      },
      "source": [
        ""
      ],
      "execution_count": null,
      "outputs": []
    },
    {
      "cell_type": "code",
      "metadata": {
        "id": "Ke6o28hAXV2l"
      },
      "source": [
        ""
      ],
      "execution_count": null,
      "outputs": []
    },
    {
      "cell_type": "markdown",
      "metadata": {
        "id": "8VOPEB1LVG5y"
      },
      "source": [
        "concatinating train and test data"
      ]
    },
    {
      "cell_type": "code",
      "metadata": {
        "id": "ABLPsLONVFlX"
      },
      "source": [
        "final_df = pd.concat([train_data,test_data],axis=0)\n",
        "final_df"
      ],
      "execution_count": null,
      "outputs": []
    },
    {
      "cell_type": "code",
      "metadata": {
        "id": "KPMlO7v1VFod"
      },
      "source": [
        "\n",
        "def category(multcolumns):\n",
        "    df_final=final_df\n",
        "    i=0\n",
        "    for fields in multcolumns:\n",
        "        \n",
        "        print(fields)\n",
        "        df1=pd.get_dummies(final_df[fields],drop_first=True)\n",
        "        \n",
        "        final_df.drop([fields],axis=1,inplace=True)\n",
        "        if i==0:\n",
        "            df_final=df1.copy()\n",
        "        else:\n",
        "            \n",
        "            df_final=pd.concat([df_final,df1],axis=1)\n",
        "        i=i+1\n",
        "       \n",
        "        \n",
        "    df_final=pd.concat([final_df,df_final],axis=1)\n",
        "        \n",
        "    return df_final"
      ],
      "execution_count": 56,
      "outputs": []
    },
    {
      "cell_type": "code",
      "metadata": {
        "id": "Dk9Ro9BUVFrd"
      },
      "source": [
        "cat_feature = [feature for feature in train_data.columns if train_data[feature].dtype==\"O\"]\n",
        "len(cat_feature)"
      ],
      "execution_count": null,
      "outputs": []
    },
    {
      "cell_type": "code",
      "metadata": {
        "id": "op0GzgC1VFuS"
      },
      "source": [
        "\n",
        "train_df = final_df.iloc[:1460,:]\n",
        "test_df= final_df.iloc[1460:,:]"
      ],
      "execution_count": 58,
      "outputs": []
    },
    {
      "cell_type": "code",
      "metadata": {
        "id": "ZaiN_zOoV1mo"
      },
      "source": [
        "test_df"
      ],
      "execution_count": null,
      "outputs": []
    },
    {
      "cell_type": "code",
      "metadata": {
        "id": "8q_fkgSjV1p3"
      },
      "source": [
        "test_df.drop([\"SalePrice\"],axis=1,inplace=True)"
      ],
      "execution_count": null,
      "outputs": []
    },
    {
      "cell_type": "code",
      "metadata": {
        "id": "p584puNGV7E3"
      },
      "source": [
        "tId = test_df[\"Id\"]\n"
      ],
      "execution_count": 64,
      "outputs": []
    },
    {
      "cell_type": "code",
      "metadata": {
        "id": "J268WiWLV7JL"
      },
      "source": [
        "X_train=train_df.drop(['SalePrice'],axis=1)\n",
        "Y_train=train_df['SalePrice']"
      ],
      "execution_count": 65,
      "outputs": []
    },
    {
      "cell_type": "code",
      "metadata": {
        "id": "aeihdg13Whbe"
      },
      "source": [
        ""
      ],
      "execution_count": null,
      "outputs": []
    },
    {
      "cell_type": "code",
      "metadata": {
        "id": "dqcmo3N8WheN"
      },
      "source": [
        "from sklearn.preprocessing import StandardScaler\n",
        "sc = StandardScaler()\n",
        "X_train = sc.fit_transform(X_train)\n",
        "test_df = sc.transform(test_df)"
      ],
      "execution_count": null,
      "outputs": []
    },
    {
      "cell_type": "code",
      "metadata": {
        "id": "aNynccAYWhgy"
      },
      "source": [
        "reg.coef_"
      ],
      "execution_count": null,
      "outputs": []
    },
    {
      "cell_type": "code",
      "metadata": {
        "id": "mTn0xsz0cIoz"
      },
      "source": [
        "reg.intercept_\n",
        "reg.score(X_train,Y_train)"
      ],
      "execution_count": null,
      "outputs": []
    },
    {
      "cell_type": "code",
      "metadata": {
        "id": "jz5LU49_NtN2"
      },
      "source": [
        "result=reg.predict(X_train)"
      ],
      "execution_count": null,
      "outputs": []
    },
    {
      "cell_type": "code",
      "metadata": {
        "id": "lpzIlWxJcju1"
      },
      "source": [
        ""
      ],
      "execution_count": null,
      "outputs": []
    },
    {
      "cell_type": "code",
      "metadata": {
        "id": "YpwDVv4_cjw7"
      },
      "source": [
        "test_data=pd.DataFrame()\n",
        "test_data=['Actual Values'] =Y_train\n",
        "test_data=['Predicted'] =result\n",
        "test_data"
      ],
      "execution_count": null,
      "outputs": []
    },
    {
      "cell_type": "code",
      "metadata": {
        "id": "e7wz6rKMcjyt"
      },
      "source": [
        "plt.figure(figsize = (6,4))\n",
        "plt.plot(Y_train, 'o', color = 'blue', label = 'Actual Values')\n",
        "plt.plot(result, color = 'green', label = 'Predicted Values')\n",
        "plt.legend()"
      ],
      "execution_count": null,
      "outputs": []
    },
    {
      "cell_type": "markdown",
      "metadata": {
        "id": "stO-R1ocdHuT"
      },
      "source": [
        "final pred"
      ]
    },
    {
      "cell_type": "code",
      "metadata": {
        "id": "MX4zM5iVcj0u"
      },
      "source": [
        "Y_pred = reg.predict(test_df)"
      ],
      "execution_count": null,
      "outputs": []
    },
    {
      "cell_type": "markdown",
      "metadata": {
        "id": "yGYIsIC4dKvS"
      },
      "source": [
        "exporting to csv "
      ]
    },
    {
      "cell_type": "code",
      "metadata": {
        "id": "yrnWypgoc8fo"
      },
      "source": [
        "\n",
        "lst = tId\n",
        "lst2 = list(Y_pred)\n",
        "df = pd.DataFrame(list(zip(lst, lst2)),\n",
        "               columns =['Id', 'SalePrice'])"
      ],
      "execution_count": null,
      "outputs": []
    },
    {
      "cell_type": "code",
      "metadata": {
        "id": "b5N0pAtdc8hy"
      },
      "source": [
        "df.to_csv('result.csv',index=False)"
      ],
      "execution_count": null,
      "outputs": []
    }
  ]
}